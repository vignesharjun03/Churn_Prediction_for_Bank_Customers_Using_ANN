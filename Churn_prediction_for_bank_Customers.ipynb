{
 "cells": [
  {
   "cell_type": "markdown",
   "id": "9ddba339",
   "metadata": {},
   "source": [
    "# Customer Churn Prediction Using ANN"
   ]
  },
  {
   "cell_type": "markdown",
   "id": "24372867",
   "metadata": {},
   "source": [
    "### Importing Libraries:"
   ]
  },
  {
   "cell_type": "code",
   "execution_count": 1,
   "id": "a15ae9a4",
   "metadata": {},
   "outputs": [],
   "source": [
    "import numpy as np\n",
    "import pandas as pd\n",
    "import matplotlib.pyplot as plt\n",
    "import seaborn as sns\n",
    "\n",
    "import tensorflow as tf\n",
    "from tensorflow.keras.models import Sequential\n",
    "from tensorflow.keras.layers import Dense\n",
    "from tensorflow.keras.layers import ReLU\n",
    "from tensorflow.keras.layers import Dropout\n",
    "\n",
    "from sklearn.preprocessing import StandardScaler\n",
    "from sklearn.model_selection import train_test_split\n",
    "from sklearn.metrics import confusion_matrix\n",
    "from sklearn.metrics import accuracy_score\n",
    "\n",
    "%matplotlib inline"
   ]
  },
  {
   "cell_type": "code",
   "execution_count": 2,
   "id": "46f9fd53",
   "metadata": {},
   "outputs": [
    {
     "data": {
      "text/html": [
       "<div>\n",
       "<style scoped>\n",
       "    .dataframe tbody tr th:only-of-type {\n",
       "        vertical-align: middle;\n",
       "    }\n",
       "\n",
       "    .dataframe tbody tr th {\n",
       "        vertical-align: top;\n",
       "    }\n",
       "\n",
       "    .dataframe thead th {\n",
       "        text-align: right;\n",
       "    }\n",
       "</style>\n",
       "<table border=\"1\" class=\"dataframe\">\n",
       "  <thead>\n",
       "    <tr style=\"text-align: right;\">\n",
       "      <th></th>\n",
       "      <th>RowNumber</th>\n",
       "      <th>CustomerId</th>\n",
       "      <th>Surname</th>\n",
       "      <th>CreditScore</th>\n",
       "      <th>Geography</th>\n",
       "      <th>Gender</th>\n",
       "      <th>Age</th>\n",
       "      <th>Tenure</th>\n",
       "      <th>Balance</th>\n",
       "      <th>NumOfProducts</th>\n",
       "      <th>HasCrCard</th>\n",
       "      <th>IsActiveMember</th>\n",
       "      <th>EstimatedSalary</th>\n",
       "      <th>Exited</th>\n",
       "    </tr>\n",
       "  </thead>\n",
       "  <tbody>\n",
       "    <tr>\n",
       "      <th>0</th>\n",
       "      <td>1</td>\n",
       "      <td>15634602</td>\n",
       "      <td>Hargrave</td>\n",
       "      <td>619</td>\n",
       "      <td>France</td>\n",
       "      <td>Female</td>\n",
       "      <td>42</td>\n",
       "      <td>2</td>\n",
       "      <td>0.00</td>\n",
       "      <td>1</td>\n",
       "      <td>1</td>\n",
       "      <td>1</td>\n",
       "      <td>101348.88</td>\n",
       "      <td>1</td>\n",
       "    </tr>\n",
       "    <tr>\n",
       "      <th>1</th>\n",
       "      <td>2</td>\n",
       "      <td>15647311</td>\n",
       "      <td>Hill</td>\n",
       "      <td>608</td>\n",
       "      <td>Spain</td>\n",
       "      <td>Female</td>\n",
       "      <td>41</td>\n",
       "      <td>1</td>\n",
       "      <td>83807.86</td>\n",
       "      <td>1</td>\n",
       "      <td>0</td>\n",
       "      <td>1</td>\n",
       "      <td>112542.58</td>\n",
       "      <td>0</td>\n",
       "    </tr>\n",
       "    <tr>\n",
       "      <th>2</th>\n",
       "      <td>3</td>\n",
       "      <td>15619304</td>\n",
       "      <td>Onio</td>\n",
       "      <td>502</td>\n",
       "      <td>France</td>\n",
       "      <td>Female</td>\n",
       "      <td>42</td>\n",
       "      <td>8</td>\n",
       "      <td>159660.80</td>\n",
       "      <td>3</td>\n",
       "      <td>1</td>\n",
       "      <td>0</td>\n",
       "      <td>113931.57</td>\n",
       "      <td>1</td>\n",
       "    </tr>\n",
       "    <tr>\n",
       "      <th>3</th>\n",
       "      <td>4</td>\n",
       "      <td>15701354</td>\n",
       "      <td>Boni</td>\n",
       "      <td>699</td>\n",
       "      <td>France</td>\n",
       "      <td>Female</td>\n",
       "      <td>39</td>\n",
       "      <td>1</td>\n",
       "      <td>0.00</td>\n",
       "      <td>2</td>\n",
       "      <td>0</td>\n",
       "      <td>0</td>\n",
       "      <td>93826.63</td>\n",
       "      <td>0</td>\n",
       "    </tr>\n",
       "    <tr>\n",
       "      <th>4</th>\n",
       "      <td>5</td>\n",
       "      <td>15737888</td>\n",
       "      <td>Mitchell</td>\n",
       "      <td>850</td>\n",
       "      <td>Spain</td>\n",
       "      <td>Female</td>\n",
       "      <td>43</td>\n",
       "      <td>2</td>\n",
       "      <td>125510.82</td>\n",
       "      <td>1</td>\n",
       "      <td>1</td>\n",
       "      <td>1</td>\n",
       "      <td>79084.10</td>\n",
       "      <td>0</td>\n",
       "    </tr>\n",
       "  </tbody>\n",
       "</table>\n",
       "</div>"
      ],
      "text/plain": [
       "   RowNumber  CustomerId   Surname  CreditScore Geography  Gender  Age  \\\n",
       "0          1    15634602  Hargrave          619    France  Female   42   \n",
       "1          2    15647311      Hill          608     Spain  Female   41   \n",
       "2          3    15619304      Onio          502    France  Female   42   \n",
       "3          4    15701354      Boni          699    France  Female   39   \n",
       "4          5    15737888  Mitchell          850     Spain  Female   43   \n",
       "\n",
       "   Tenure    Balance  NumOfProducts  HasCrCard  IsActiveMember  \\\n",
       "0       2       0.00              1          1               1   \n",
       "1       1   83807.86              1          0               1   \n",
       "2       8  159660.80              3          1               0   \n",
       "3       1       0.00              2          0               0   \n",
       "4       2  125510.82              1          1               1   \n",
       "\n",
       "   EstimatedSalary  Exited  \n",
       "0        101348.88       1  \n",
       "1        112542.58       0  \n",
       "2        113931.57       1  \n",
       "3         93826.63       0  \n",
       "4         79084.10       0  "
      ]
     },
     "execution_count": 2,
     "metadata": {},
     "output_type": "execute_result"
    }
   ],
   "source": [
    "df = pd.read_csv(\"C:/Users/Vignesh Arjun/Desktop/Churn_Modelling.csv\")\n",
    "df.head()"
   ]
  },
  {
   "cell_type": "markdown",
   "id": "e0512d7b",
   "metadata": {},
   "source": [
    "## EDA:"
   ]
  },
  {
   "cell_type": "code",
   "execution_count": 3,
   "id": "5526b6e2",
   "metadata": {},
   "outputs": [
    {
     "data": {
      "text/plain": [
       "(10000, 14)"
      ]
     },
     "execution_count": 3,
     "metadata": {},
     "output_type": "execute_result"
    }
   ],
   "source": [
    "df.shape"
   ]
  },
  {
   "cell_type": "code",
   "execution_count": 4,
   "id": "65dba2b2",
   "metadata": {},
   "outputs": [
    {
     "data": {
      "text/html": [
       "<div>\n",
       "<style scoped>\n",
       "    .dataframe tbody tr th:only-of-type {\n",
       "        vertical-align: middle;\n",
       "    }\n",
       "\n",
       "    .dataframe tbody tr th {\n",
       "        vertical-align: top;\n",
       "    }\n",
       "\n",
       "    .dataframe thead th {\n",
       "        text-align: right;\n",
       "    }\n",
       "</style>\n",
       "<table border=\"1\" class=\"dataframe\">\n",
       "  <thead>\n",
       "    <tr style=\"text-align: right;\">\n",
       "      <th></th>\n",
       "      <th>RowNumber</th>\n",
       "      <th>CustomerId</th>\n",
       "      <th>CreditScore</th>\n",
       "      <th>Age</th>\n",
       "      <th>Tenure</th>\n",
       "      <th>Balance</th>\n",
       "      <th>NumOfProducts</th>\n",
       "      <th>HasCrCard</th>\n",
       "      <th>IsActiveMember</th>\n",
       "      <th>EstimatedSalary</th>\n",
       "      <th>Exited</th>\n",
       "    </tr>\n",
       "  </thead>\n",
       "  <tbody>\n",
       "    <tr>\n",
       "      <th>count</th>\n",
       "      <td>10000.00000</td>\n",
       "      <td>1.000000e+04</td>\n",
       "      <td>10000.000000</td>\n",
       "      <td>10000.000000</td>\n",
       "      <td>10000.000000</td>\n",
       "      <td>10000.000000</td>\n",
       "      <td>10000.000000</td>\n",
       "      <td>10000.00000</td>\n",
       "      <td>10000.000000</td>\n",
       "      <td>10000.000000</td>\n",
       "      <td>10000.000000</td>\n",
       "    </tr>\n",
       "    <tr>\n",
       "      <th>mean</th>\n",
       "      <td>5000.50000</td>\n",
       "      <td>1.569094e+07</td>\n",
       "      <td>650.528800</td>\n",
       "      <td>38.921800</td>\n",
       "      <td>5.012800</td>\n",
       "      <td>76485.889288</td>\n",
       "      <td>1.530200</td>\n",
       "      <td>0.70550</td>\n",
       "      <td>0.515100</td>\n",
       "      <td>100090.239881</td>\n",
       "      <td>0.203700</td>\n",
       "    </tr>\n",
       "    <tr>\n",
       "      <th>std</th>\n",
       "      <td>2886.89568</td>\n",
       "      <td>7.193619e+04</td>\n",
       "      <td>96.653299</td>\n",
       "      <td>10.487806</td>\n",
       "      <td>2.892174</td>\n",
       "      <td>62397.405202</td>\n",
       "      <td>0.581654</td>\n",
       "      <td>0.45584</td>\n",
       "      <td>0.499797</td>\n",
       "      <td>57510.492818</td>\n",
       "      <td>0.402769</td>\n",
       "    </tr>\n",
       "    <tr>\n",
       "      <th>min</th>\n",
       "      <td>1.00000</td>\n",
       "      <td>1.556570e+07</td>\n",
       "      <td>350.000000</td>\n",
       "      <td>18.000000</td>\n",
       "      <td>0.000000</td>\n",
       "      <td>0.000000</td>\n",
       "      <td>1.000000</td>\n",
       "      <td>0.00000</td>\n",
       "      <td>0.000000</td>\n",
       "      <td>11.580000</td>\n",
       "      <td>0.000000</td>\n",
       "    </tr>\n",
       "    <tr>\n",
       "      <th>25%</th>\n",
       "      <td>2500.75000</td>\n",
       "      <td>1.562853e+07</td>\n",
       "      <td>584.000000</td>\n",
       "      <td>32.000000</td>\n",
       "      <td>3.000000</td>\n",
       "      <td>0.000000</td>\n",
       "      <td>1.000000</td>\n",
       "      <td>0.00000</td>\n",
       "      <td>0.000000</td>\n",
       "      <td>51002.110000</td>\n",
       "      <td>0.000000</td>\n",
       "    </tr>\n",
       "    <tr>\n",
       "      <th>50%</th>\n",
       "      <td>5000.50000</td>\n",
       "      <td>1.569074e+07</td>\n",
       "      <td>652.000000</td>\n",
       "      <td>37.000000</td>\n",
       "      <td>5.000000</td>\n",
       "      <td>97198.540000</td>\n",
       "      <td>1.000000</td>\n",
       "      <td>1.00000</td>\n",
       "      <td>1.000000</td>\n",
       "      <td>100193.915000</td>\n",
       "      <td>0.000000</td>\n",
       "    </tr>\n",
       "    <tr>\n",
       "      <th>75%</th>\n",
       "      <td>7500.25000</td>\n",
       "      <td>1.575323e+07</td>\n",
       "      <td>718.000000</td>\n",
       "      <td>44.000000</td>\n",
       "      <td>7.000000</td>\n",
       "      <td>127644.240000</td>\n",
       "      <td>2.000000</td>\n",
       "      <td>1.00000</td>\n",
       "      <td>1.000000</td>\n",
       "      <td>149388.247500</td>\n",
       "      <td>0.000000</td>\n",
       "    </tr>\n",
       "    <tr>\n",
       "      <th>max</th>\n",
       "      <td>10000.00000</td>\n",
       "      <td>1.581569e+07</td>\n",
       "      <td>850.000000</td>\n",
       "      <td>92.000000</td>\n",
       "      <td>10.000000</td>\n",
       "      <td>250898.090000</td>\n",
       "      <td>4.000000</td>\n",
       "      <td>1.00000</td>\n",
       "      <td>1.000000</td>\n",
       "      <td>199992.480000</td>\n",
       "      <td>1.000000</td>\n",
       "    </tr>\n",
       "  </tbody>\n",
       "</table>\n",
       "</div>"
      ],
      "text/plain": [
       "         RowNumber    CustomerId   CreditScore           Age        Tenure  \\\n",
       "count  10000.00000  1.000000e+04  10000.000000  10000.000000  10000.000000   \n",
       "mean    5000.50000  1.569094e+07    650.528800     38.921800      5.012800   \n",
       "std     2886.89568  7.193619e+04     96.653299     10.487806      2.892174   \n",
       "min        1.00000  1.556570e+07    350.000000     18.000000      0.000000   \n",
       "25%     2500.75000  1.562853e+07    584.000000     32.000000      3.000000   \n",
       "50%     5000.50000  1.569074e+07    652.000000     37.000000      5.000000   \n",
       "75%     7500.25000  1.575323e+07    718.000000     44.000000      7.000000   \n",
       "max    10000.00000  1.581569e+07    850.000000     92.000000     10.000000   \n",
       "\n",
       "             Balance  NumOfProducts    HasCrCard  IsActiveMember  \\\n",
       "count   10000.000000   10000.000000  10000.00000    10000.000000   \n",
       "mean    76485.889288       1.530200      0.70550        0.515100   \n",
       "std     62397.405202       0.581654      0.45584        0.499797   \n",
       "min         0.000000       1.000000      0.00000        0.000000   \n",
       "25%         0.000000       1.000000      0.00000        0.000000   \n",
       "50%     97198.540000       1.000000      1.00000        1.000000   \n",
       "75%    127644.240000       2.000000      1.00000        1.000000   \n",
       "max    250898.090000       4.000000      1.00000        1.000000   \n",
       "\n",
       "       EstimatedSalary        Exited  \n",
       "count     10000.000000  10000.000000  \n",
       "mean     100090.239881      0.203700  \n",
       "std       57510.492818      0.402769  \n",
       "min          11.580000      0.000000  \n",
       "25%       51002.110000      0.000000  \n",
       "50%      100193.915000      0.000000  \n",
       "75%      149388.247500      0.000000  \n",
       "max      199992.480000      1.000000  "
      ]
     },
     "execution_count": 4,
     "metadata": {},
     "output_type": "execute_result"
    }
   ],
   "source": [
    "df.describe()"
   ]
  },
  {
   "cell_type": "code",
   "execution_count": 5,
   "id": "822804a0",
   "metadata": {
    "scrolled": false
   },
   "outputs": [
    {
     "name": "stdout",
     "output_type": "stream",
     "text": [
      "1        1\n",
      "6671     1\n",
      "6664     1\n",
      "6665     1\n",
      "6666     1\n",
      "        ..\n",
      "3334     1\n",
      "3335     1\n",
      "3336     1\n",
      "3337     1\n",
      "10000    1\n",
      "Name: RowNumber, Length: 10000, dtype: int64\n",
      "15634602    1\n",
      "15667932    1\n",
      "15766185    1\n",
      "15667632    1\n",
      "15599024    1\n",
      "           ..\n",
      "15599078    1\n",
      "15702300    1\n",
      "15660735    1\n",
      "15671390    1\n",
      "15628319    1\n",
      "Name: CustomerId, Length: 10000, dtype: int64\n",
      "Smith       32\n",
      "Scott       29\n",
      "Martin      29\n",
      "Walker      28\n",
      "Brown       26\n",
      "            ..\n",
      "Izmailov     1\n",
      "Bold         1\n",
      "Bonham       1\n",
      "Poninski     1\n",
      "Burbidge     1\n",
      "Name: Surname, Length: 2932, dtype: int64\n",
      "850    233\n",
      "678     63\n",
      "655     54\n",
      "705     53\n",
      "667     53\n",
      "      ... \n",
      "404      1\n",
      "351      1\n",
      "365      1\n",
      "417      1\n",
      "419      1\n",
      "Name: CreditScore, Length: 460, dtype: int64\n",
      "France     5014\n",
      "Germany    2509\n",
      "Spain      2477\n",
      "Name: Geography, dtype: int64\n",
      "Male      5457\n",
      "Female    4543\n",
      "Name: Gender, dtype: int64\n",
      "37    478\n",
      "38    477\n",
      "35    474\n",
      "36    456\n",
      "34    447\n",
      "     ... \n",
      "92      2\n",
      "82      1\n",
      "88      1\n",
      "85      1\n",
      "83      1\n",
      "Name: Age, Length: 70, dtype: int64\n",
      "2     1048\n",
      "1     1035\n",
      "7     1028\n",
      "8     1025\n",
      "5     1012\n",
      "3     1009\n",
      "4      989\n",
      "9      984\n",
      "6      967\n",
      "10     490\n",
      "0      413\n",
      "Name: Tenure, dtype: int64\n",
      "0.00         3617\n",
      "130170.82       2\n",
      "105473.74       2\n",
      "85304.27        1\n",
      "159397.75       1\n",
      "             ... \n",
      "81556.89        1\n",
      "112687.69       1\n",
      "108698.96       1\n",
      "238387.56       1\n",
      "130142.79       1\n",
      "Name: Balance, Length: 6382, dtype: int64\n",
      "1    5084\n",
      "2    4590\n",
      "3     266\n",
      "4      60\n",
      "Name: NumOfProducts, dtype: int64\n",
      "1    7055\n",
      "0    2945\n",
      "Name: HasCrCard, dtype: int64\n",
      "1    5151\n",
      "0    4849\n",
      "Name: IsActiveMember, dtype: int64\n",
      "24924.92     2\n",
      "101348.88    1\n",
      "55313.44     1\n",
      "72500.68     1\n",
      "182692.80    1\n",
      "            ..\n",
      "120893.07    1\n",
      "188377.21    1\n",
      "55902.93     1\n",
      "4523.74      1\n",
      "38190.78     1\n",
      "Name: EstimatedSalary, Length: 9999, dtype: int64\n",
      "0    7963\n",
      "1    2037\n",
      "Name: Exited, dtype: int64\n"
     ]
    }
   ],
   "source": [
    "for col in df:\n",
    "    print(df[col].value_counts())"
   ]
  },
  {
   "cell_type": "code",
   "execution_count": 6,
   "id": "16d1192f",
   "metadata": {},
   "outputs": [
    {
     "name": "stdout",
     "output_type": "stream",
     "text": [
      "<class 'pandas.core.frame.DataFrame'>\n",
      "RangeIndex: 10000 entries, 0 to 9999\n",
      "Data columns (total 14 columns):\n",
      " #   Column           Non-Null Count  Dtype  \n",
      "---  ------           --------------  -----  \n",
      " 0   RowNumber        10000 non-null  int64  \n",
      " 1   CustomerId       10000 non-null  int64  \n",
      " 2   Surname          10000 non-null  object \n",
      " 3   CreditScore      10000 non-null  int64  \n",
      " 4   Geography        10000 non-null  object \n",
      " 5   Gender           10000 non-null  object \n",
      " 6   Age              10000 non-null  int64  \n",
      " 7   Tenure           10000 non-null  int64  \n",
      " 8   Balance          10000 non-null  float64\n",
      " 9   NumOfProducts    10000 non-null  int64  \n",
      " 10  HasCrCard        10000 non-null  int64  \n",
      " 11  IsActiveMember   10000 non-null  int64  \n",
      " 12  EstimatedSalary  10000 non-null  float64\n",
      " 13  Exited           10000 non-null  int64  \n",
      "dtypes: float64(2), int64(9), object(3)\n",
      "memory usage: 1.1+ MB\n"
     ]
    }
   ],
   "source": [
    "df.info()"
   ]
  },
  {
   "cell_type": "markdown",
   "id": "f51c2ece",
   "metadata": {},
   "source": [
    "- From the above informations, we can conclude that there are no missing values present in the dataset.\n",
    "- There are 13 independent featues and 1 dependent feature present, out of which three are categorical variables and the rest are numerical."
   ]
  },
  {
   "cell_type": "markdown",
   "id": "df3c13d7",
   "metadata": {},
   "source": [
    "###### Let us find the churn rate using a pie chart."
   ]
  },
  {
   "cell_type": "code",
   "execution_count": 7,
   "id": "5c204543",
   "metadata": {},
   "outputs": [
    {
     "data": {
      "image/png": "[encoded data removed]",
      "text/plain": [
       "<Figure size 432x288 with 1 Axes>"
      ]
     },
     "metadata": {},
     "output_type": "display_data"
    }
   ],
   "source": [
    "labels = 'Remained','Exited'\n",
    "x = df.Exited.value_counts()\n",
    "explode = (.1,0)\n",
    "\n",
    "plt.pie(x,labels=labels,explode=explode,autopct='%1.1f%%',shadow=True)\n",
    "plt.axis('equal')\n",
    "plt.show()"
   ]
  },
  {
   "cell_type": "markdown",
   "id": "42124fd1",
   "metadata": {},
   "source": [
    "##### From the above chart we can understand that more than 20% of the customers quit. \n",
    "##### Let us have a look at the deciding factors of the churn rate."
   ]
  },
  {
   "cell_type": "code",
   "execution_count": 8,
   "id": "85121067",
   "metadata": {},
   "outputs": [
    {
     "data": {
      "text/plain": [
       "<AxesSubplot:xlabel='Geography', ylabel='count'>"
      ]
     },
     "execution_count": 8,
     "metadata": {},
     "output_type": "execute_result"
    },
    {
     "data": {
      "image/png": "[encoded data removed]",
      "text/plain": [
       "<Figure size 432x288 with 1 Axes>"
      ]
     },
     "metadata": {
      "needs_background": "light"
     },
     "output_type": "display_data"
    }
   ],
   "source": [
    "sns.countplot(x='Geography',hue='Exited',data=df,)"
   ]
  },
  {
   "cell_type": "markdown",
   "id": "c91a1e76",
   "metadata": {},
   "source": [
    "#### Churn rate is higher in Germany with almost 50% of churn rate, followed by Spain and France with around 25%."
   ]
  },
  {
   "cell_type": "code",
   "execution_count": 9,
   "id": "2f885796",
   "metadata": {},
   "outputs": [
    {
     "data": {
      "text/plain": [
       "<AxesSubplot:xlabel='Gender', ylabel='count'>"
      ]
     },
     "execution_count": 9,
     "metadata": {},
     "output_type": "execute_result"
    },
    {
     "data": {
      "image/png": "[encoded data removed]",
      "text/plain": [
       "<Figure size 432x288 with 1 Axes>"
      ]
     },
     "metadata": {
      "needs_background": "light"
     },
     "output_type": "display_data"
    }
   ],
   "source": [
    "sns.countplot(x='Gender',hue='Exited',data=df)"
   ]
  },
  {
   "cell_type": "markdown",
   "id": "b1fb7b42",
   "metadata": {},
   "source": [
    "#### Based on Gender, we can see that Female customers tend to quit more than Male customers."
   ]
  },
  {
   "cell_type": "code",
   "execution_count": 10,
   "id": "bf2e557f",
   "metadata": {},
   "outputs": [
    {
     "data": {
      "text/plain": [
       "<AxesSubplot:xlabel='Tenure', ylabel='count'>"
      ]
     },
     "execution_count": 10,
     "metadata": {},
     "output_type": "execute_result"
    },
    {
     "data": {
      "image/png": "[encoded data removed]",
      "text/plain": [
       "<Figure size 432x288 with 1 Axes>"
      ]
     },
     "metadata": {
      "needs_background": "light"
     },
     "output_type": "display_data"
    }
   ],
   "source": [
    "sns.countplot(x='Tenure',hue='Exited',data=df)"
   ]
  },
  {
   "cell_type": "markdown",
   "id": "f9f43390",
   "metadata": {},
   "source": [
    "#### Churn rate are spread more or less equally based on the Tenure of the Customers."
   ]
  },
  {
   "cell_type": "code",
   "execution_count": 11,
   "id": "beb77903",
   "metadata": {},
   "outputs": [
    {
     "data": {
      "text/plain": [
       "<AxesSubplot:xlabel='NumOfProducts', ylabel='count'>"
      ]
     },
     "execution_count": 11,
     "metadata": {},
     "output_type": "execute_result"
    },
    {
     "data": {
      "image/png": "[encoded data removed]",
      "text/plain": [
       "<Figure size 432x288 with 1 Axes>"
      ]
     },
     "metadata": {
      "needs_background": "light"
     },
     "output_type": "display_data"
    }
   ],
   "source": [
    "sns.countplot(x='NumOfProducts',hue='Exited',data=df)"
   ]
  },
  {
   "cell_type": "markdown",
   "id": "b30da73f",
   "metadata": {},
   "source": [
    "### Churn rate based on number of products used by the Customers\n",
    "###### - More than 30% Customers using a single product are churned\n",
    "###### - Around 10% Customers using two products are churned\n",
    "###### - More than 80% of the Customers are churned who are using 3 products\n",
    "###### - Mostly all the Customers using four products are churned \n",
    "\n",
    "Hence, the number of products used by the customers have a great impact on the churn rate, which can be well determined if we have the data of the subscription amount levied on by the bank for those products compared to their competitors"
   ]
  },
  {
   "cell_type": "code",
   "execution_count": 12,
   "id": "6633cff5",
   "metadata": {},
   "outputs": [
    {
     "data": {
      "text/plain": [
       "<AxesSubplot:xlabel='HasCrCard', ylabel='count'>"
      ]
     },
     "execution_count": 12,
     "metadata": {},
     "output_type": "execute_result"
    },
    {
     "data": {
      "image/png": "[encoded data removed]",
      "text/plain": [
       "<Figure size 432x288 with 1 Axes>"
      ]
     },
     "metadata": {
      "needs_background": "light"
     },
     "output_type": "display_data"
    }
   ],
   "source": [
    "sns.countplot(x='HasCrCard',hue='Exited',data=df)"
   ]
  },
  {
   "cell_type": "markdown",
   "id": "d539ed0d",
   "metadata": {},
   "source": [
    "### Churn rate based on the Customers possession of Credit Card\n",
    "###### Only 15% of the customers without a credit card are churned, whereas, more than 20% of the customers with a credit card are churned."
   ]
  },
  {
   "cell_type": "code",
   "execution_count": 13,
   "id": "30be5885",
   "metadata": {},
   "outputs": [
    {
     "data": {
      "text/plain": [
       "<AxesSubplot:xlabel='IsActiveMember', ylabel='count'>"
      ]
     },
     "execution_count": 13,
     "metadata": {},
     "output_type": "execute_result"
    },
    {
     "data": {
      "image/png": "[encoded data removed]",
      "text/plain": [
       "<Figure size 432x288 with 1 Axes>"
      ]
     },
     "metadata": {
      "needs_background": "light"
     },
     "output_type": "display_data"
    }
   ],
   "source": [
    "sns.countplot(x='IsActiveMember',hue='Exited',data=df)"
   ]
  },
  {
   "cell_type": "markdown",
   "id": "e27fb9ca",
   "metadata": {},
   "source": [
    "#### - More than 35% of the Inactive members are churned, while less than 10% of the active members are churned."
   ]
  },
  {
   "cell_type": "code",
   "execution_count": 14,
   "id": "b72ab45d",
   "metadata": {},
   "outputs": [
    {
     "data": {
      "text/plain": [
       "<AxesSubplot:xlabel='CreditScore', ylabel='Exited'>"
      ]
     },
     "execution_count": 14,
     "metadata": {},
     "output_type": "execute_result"
    },
    {
     "data": {
      "image/png": "[encoded data removed]",
      "text/plain": [
       "<Figure size 432x288 with 1 Axes>"
      ]
     },
     "metadata": {
      "needs_background": "light"
     },
     "output_type": "display_data"
    }
   ],
   "source": [
    "sns.boxplot(x='CreditScore',y='Exited',data=df,orient='h')"
   ]
  },
  {
   "cell_type": "markdown",
   "id": "f03fa5b4",
   "metadata": {},
   "source": [
    "#### Credit Score does not have a huge impact on the Churn Rate"
   ]
  },
  {
   "cell_type": "code",
   "execution_count": 15,
   "id": "1fded7d8",
   "metadata": {},
   "outputs": [
    {
     "data": {
      "text/plain": [
       "<AxesSubplot:xlabel='Age', ylabel='Exited'>"
      ]
     },
     "execution_count": 15,
     "metadata": {},
     "output_type": "execute_result"
    },
    {
     "data": {
      "image/png": "[encoded data removed]",
      "text/plain": [
       "<Figure size 432x288 with 1 Axes>"
      ]
     },
     "metadata": {
      "needs_background": "light"
     },
     "output_type": "display_data"
    }
   ],
   "source": [
    "sns.boxplot(x='Age',y='Exited',data=df,orient='h')"
   ]
  },
  {
   "cell_type": "markdown",
   "id": "3e5240bc",
   "metadata": {},
   "source": [
    "### Customers between the age group of 30 and 40 are churned more than the customers from other age."
   ]
  },
  {
   "cell_type": "code",
   "execution_count": 16,
   "id": "db946dbf",
   "metadata": {},
   "outputs": [
    {
     "data": {
      "text/plain": [
       "<AxesSubplot:xlabel='Balance', ylabel='Exited'>"
      ]
     },
     "execution_count": 16,
     "metadata": {},
     "output_type": "execute_result"
    },
    {
     "data": {
      "image/png": "[encoded data removed]",
      "text/plain": [
       "<Figure size 432x288 with 1 Axes>"
      ]
     },
     "metadata": {
      "needs_background": "light"
     },
     "output_type": "display_data"
    }
   ],
   "source": [
    "sns.boxplot(x='Balance',y='Exited',data=df,orient='h')"
   ]
  },
  {
   "cell_type": "markdown",
   "id": "921c16f2",
   "metadata": {},
   "source": [
    "#### The customers with a huge amount of balance are leaving the bank, which should be reduced to safeguard the revenue generated by those customers. \n",
    "#### Also, around 25% of the Customers remained in the bank are maintaining very low balance in their account. "
   ]
  },
  {
   "cell_type": "code",
   "execution_count": 17,
   "id": "50ebf295",
   "metadata": {},
   "outputs": [
    {
     "data": {
      "text/plain": [
       "<AxesSubplot:xlabel='EstimatedSalary', ylabel='Exited'>"
      ]
     },
     "execution_count": 17,
     "metadata": {},
     "output_type": "execute_result"
    },
    {
     "data": {
      "image/png": "[encoded data removed]",
      "text/plain": [
       "<Figure size 432x288 with 1 Axes>"
      ]
     },
     "metadata": {
      "needs_background": "light"
     },
     "output_type": "display_data"
    }
   ],
   "source": [
    "sns.boxplot(x='EstimatedSalary',y='Exited',data=df,orient='h')"
   ]
  },
  {
   "cell_type": "markdown",
   "id": "8058103e",
   "metadata": {},
   "source": [
    "#### The estimated salary of the Cusotmers does not have a great impact on the Churn rate, even though the churn rate is comparatively a bit high based on the salary"
   ]
  },
  {
   "cell_type": "markdown",
   "id": "6a7d905f",
   "metadata": {},
   "source": [
    "## Multicollinearity between the variables"
   ]
  },
  {
   "cell_type": "code",
   "execution_count": 18,
   "id": "33397043",
   "metadata": {},
   "outputs": [
    {
     "data": {
      "text/plain": [
       "<AxesSubplot:>"
      ]
     },
     "execution_count": 18,
     "metadata": {},
     "output_type": "execute_result"
    },
    {
     "data": {
      "image/png": "[encoded data removed]",
      "text/plain": [
       "<Figure size 720x576 with 1 Axes>"
      ]
     },
     "metadata": {
      "needs_background": "light"
     },
     "output_type": "display_data"
    }
   ],
   "source": [
    "df.corr()\n",
    "plt.figure(figsize=(10,8))\n",
    "sns.heatmap(df.corr(),cbar=False,annot=True)"
   ]
  },
  {
   "cell_type": "markdown",
   "id": "d152a797",
   "metadata": {},
   "source": [
    "##### There is no collinearity present between the variables. Hence we can take all the columns into account based on Multi-collinearity."
   ]
  },
  {
   "cell_type": "markdown",
   "id": "8d22b3d5",
   "metadata": {},
   "source": [
    "### FEATURE SELECTION FOR MODEL BUILDING:"
   ]
  },
  {
   "cell_type": "markdown",
   "id": "97e74bc2",
   "metadata": {},
   "source": [
    "###### From the given dataset, the columns RowNumber, CustomerId and Surname are irrelevant features that can impact the model acccuracy negatively. So, we are dropping those columns for model building."
   ]
  },
  {
   "cell_type": "code",
   "execution_count": 19,
   "id": "717fc04b",
   "metadata": {},
   "outputs": [
    {
     "data": {
      "text/html": [
       "<div>\n",
       "<style scoped>\n",
       "    .dataframe tbody tr th:only-of-type {\n",
       "        vertical-align: middle;\n",
       "    }\n",
       "\n",
       "    .dataframe tbody tr th {\n",
       "        vertical-align: top;\n",
       "    }\n",
       "\n",
       "    .dataframe thead th {\n",
       "        text-align: right;\n",
       "    }\n",
       "</style>\n",
       "<table border=\"1\" class=\"dataframe\">\n",
       "  <thead>\n",
       "    <tr style=\"text-align: right;\">\n",
       "      <th></th>\n",
       "      <th>CreditScore</th>\n",
       "      <th>Geography</th>\n",
       "      <th>Gender</th>\n",
       "      <th>Age</th>\n",
       "      <th>Tenure</th>\n",
       "      <th>Balance</th>\n",
       "      <th>NumOfProducts</th>\n",
       "      <th>HasCrCard</th>\n",
       "      <th>IsActiveMember</th>\n",
       "      <th>EstimatedSalary</th>\n",
       "      <th>Exited</th>\n",
       "    </tr>\n",
       "  </thead>\n",
       "  <tbody>\n",
       "    <tr>\n",
       "      <th>0</th>\n",
       "      <td>619</td>\n",
       "      <td>France</td>\n",
       "      <td>Female</td>\n",
       "      <td>42</td>\n",
       "      <td>2</td>\n",
       "      <td>0.00</td>\n",
       "      <td>1</td>\n",
       "      <td>1</td>\n",
       "      <td>1</td>\n",
       "      <td>101348.88</td>\n",
       "      <td>1</td>\n",
       "    </tr>\n",
       "    <tr>\n",
       "      <th>1</th>\n",
       "      <td>608</td>\n",
       "      <td>Spain</td>\n",
       "      <td>Female</td>\n",
       "      <td>41</td>\n",
       "      <td>1</td>\n",
       "      <td>83807.86</td>\n",
       "      <td>1</td>\n",
       "      <td>0</td>\n",
       "      <td>1</td>\n",
       "      <td>112542.58</td>\n",
       "      <td>0</td>\n",
       "    </tr>\n",
       "    <tr>\n",
       "      <th>2</th>\n",
       "      <td>502</td>\n",
       "      <td>France</td>\n",
       "      <td>Female</td>\n",
       "      <td>42</td>\n",
       "      <td>8</td>\n",
       "      <td>159660.80</td>\n",
       "      <td>3</td>\n",
       "      <td>1</td>\n",
       "      <td>0</td>\n",
       "      <td>113931.57</td>\n",
       "      <td>1</td>\n",
       "    </tr>\n",
       "    <tr>\n",
       "      <th>3</th>\n",
       "      <td>699</td>\n",
       "      <td>France</td>\n",
       "      <td>Female</td>\n",
       "      <td>39</td>\n",
       "      <td>1</td>\n",
       "      <td>0.00</td>\n",
       "      <td>2</td>\n",
       "      <td>0</td>\n",
       "      <td>0</td>\n",
       "      <td>93826.63</td>\n",
       "      <td>0</td>\n",
       "    </tr>\n",
       "    <tr>\n",
       "      <th>4</th>\n",
       "      <td>850</td>\n",
       "      <td>Spain</td>\n",
       "      <td>Female</td>\n",
       "      <td>43</td>\n",
       "      <td>2</td>\n",
       "      <td>125510.82</td>\n",
       "      <td>1</td>\n",
       "      <td>1</td>\n",
       "      <td>1</td>\n",
       "      <td>79084.10</td>\n",
       "      <td>0</td>\n",
       "    </tr>\n",
       "  </tbody>\n",
       "</table>\n",
       "</div>"
      ],
      "text/plain": [
       "   CreditScore Geography  Gender  Age  Tenure    Balance  NumOfProducts  \\\n",
       "0          619    France  Female   42       2       0.00              1   \n",
       "1          608     Spain  Female   41       1   83807.86              1   \n",
       "2          502    France  Female   42       8  159660.80              3   \n",
       "3          699    France  Female   39       1       0.00              2   \n",
       "4          850     Spain  Female   43       2  125510.82              1   \n",
       "\n",
       "   HasCrCard  IsActiveMember  EstimatedSalary  Exited  \n",
       "0          1               1        101348.88       1  \n",
       "1          0               1        112542.58       0  \n",
       "2          1               0        113931.57       1  \n",
       "3          0               0         93826.63       0  \n",
       "4          1               1         79084.10       0  "
      ]
     },
     "execution_count": 19,
     "metadata": {},
     "output_type": "execute_result"
    }
   ],
   "source": [
    "df.drop(columns = ['RowNumber', 'CustomerId', 'Surname'], axis = 1, inplace = True)\n",
    "df.head()"
   ]
  },
  {
   "cell_type": "code",
   "execution_count": 20,
   "id": "0eef6b58",
   "metadata": {},
   "outputs": [],
   "source": [
    "# Splitting the input variables and output variable to train and test the model\n",
    "X=df.iloc[:,:10]\n",
    "y=df.iloc[:,10]"
   ]
  },
  {
   "cell_type": "code",
   "execution_count": 21,
   "id": "ad9ac5c8",
   "metadata": {},
   "outputs": [
    {
     "data": {
      "text/html": [
       "<div>\n",
       "<style scoped>\n",
       "    .dataframe tbody tr th:only-of-type {\n",
       "        vertical-align: middle;\n",
       "    }\n",
       "\n",
       "    .dataframe tbody tr th {\n",
       "        vertical-align: top;\n",
       "    }\n",
       "\n",
       "    .dataframe thead th {\n",
       "        text-align: right;\n",
       "    }\n",
       "</style>\n",
       "<table border=\"1\" class=\"dataframe\">\n",
       "  <thead>\n",
       "    <tr style=\"text-align: right;\">\n",
       "      <th></th>\n",
       "      <th>CreditScore</th>\n",
       "      <th>Geography</th>\n",
       "      <th>Gender</th>\n",
       "      <th>Age</th>\n",
       "      <th>Tenure</th>\n",
       "      <th>Balance</th>\n",
       "      <th>NumOfProducts</th>\n",
       "      <th>HasCrCard</th>\n",
       "      <th>IsActiveMember</th>\n",
       "      <th>EstimatedSalary</th>\n",
       "    </tr>\n",
       "  </thead>\n",
       "  <tbody>\n",
       "    <tr>\n",
       "      <th>0</th>\n",
       "      <td>619</td>\n",
       "      <td>France</td>\n",
       "      <td>Female</td>\n",
       "      <td>42</td>\n",
       "      <td>2</td>\n",
       "      <td>0.00</td>\n",
       "      <td>1</td>\n",
       "      <td>1</td>\n",
       "      <td>1</td>\n",
       "      <td>101348.88</td>\n",
       "    </tr>\n",
       "    <tr>\n",
       "      <th>1</th>\n",
       "      <td>608</td>\n",
       "      <td>Spain</td>\n",
       "      <td>Female</td>\n",
       "      <td>41</td>\n",
       "      <td>1</td>\n",
       "      <td>83807.86</td>\n",
       "      <td>1</td>\n",
       "      <td>0</td>\n",
       "      <td>1</td>\n",
       "      <td>112542.58</td>\n",
       "    </tr>\n",
       "    <tr>\n",
       "      <th>2</th>\n",
       "      <td>502</td>\n",
       "      <td>France</td>\n",
       "      <td>Female</td>\n",
       "      <td>42</td>\n",
       "      <td>8</td>\n",
       "      <td>159660.80</td>\n",
       "      <td>3</td>\n",
       "      <td>1</td>\n",
       "      <td>0</td>\n",
       "      <td>113931.57</td>\n",
       "    </tr>\n",
       "    <tr>\n",
       "      <th>3</th>\n",
       "      <td>699</td>\n",
       "      <td>France</td>\n",
       "      <td>Female</td>\n",
       "      <td>39</td>\n",
       "      <td>1</td>\n",
       "      <td>0.00</td>\n",
       "      <td>2</td>\n",
       "      <td>0</td>\n",
       "      <td>0</td>\n",
       "      <td>93826.63</td>\n",
       "    </tr>\n",
       "    <tr>\n",
       "      <th>4</th>\n",
       "      <td>850</td>\n",
       "      <td>Spain</td>\n",
       "      <td>Female</td>\n",
       "      <td>43</td>\n",
       "      <td>2</td>\n",
       "      <td>125510.82</td>\n",
       "      <td>1</td>\n",
       "      <td>1</td>\n",
       "      <td>1</td>\n",
       "      <td>79084.10</td>\n",
       "    </tr>\n",
       "    <tr>\n",
       "      <th>...</th>\n",
       "      <td>...</td>\n",
       "      <td>...</td>\n",
       "      <td>...</td>\n",
       "      <td>...</td>\n",
       "      <td>...</td>\n",
       "      <td>...</td>\n",
       "      <td>...</td>\n",
       "      <td>...</td>\n",
       "      <td>...</td>\n",
       "      <td>...</td>\n",
       "    </tr>\n",
       "    <tr>\n",
       "      <th>9995</th>\n",
       "      <td>771</td>\n",
       "      <td>France</td>\n",
       "      <td>Male</td>\n",
       "      <td>39</td>\n",
       "      <td>5</td>\n",
       "      <td>0.00</td>\n",
       "      <td>2</td>\n",
       "      <td>1</td>\n",
       "      <td>0</td>\n",
       "      <td>96270.64</td>\n",
       "    </tr>\n",
       "    <tr>\n",
       "      <th>9996</th>\n",
       "      <td>516</td>\n",
       "      <td>France</td>\n",
       "      <td>Male</td>\n",
       "      <td>35</td>\n",
       "      <td>10</td>\n",
       "      <td>57369.61</td>\n",
       "      <td>1</td>\n",
       "      <td>1</td>\n",
       "      <td>1</td>\n",
       "      <td>101699.77</td>\n",
       "    </tr>\n",
       "    <tr>\n",
       "      <th>9997</th>\n",
       "      <td>709</td>\n",
       "      <td>France</td>\n",
       "      <td>Female</td>\n",
       "      <td>36</td>\n",
       "      <td>7</td>\n",
       "      <td>0.00</td>\n",
       "      <td>1</td>\n",
       "      <td>0</td>\n",
       "      <td>1</td>\n",
       "      <td>42085.58</td>\n",
       "    </tr>\n",
       "    <tr>\n",
       "      <th>9998</th>\n",
       "      <td>772</td>\n",
       "      <td>Germany</td>\n",
       "      <td>Male</td>\n",
       "      <td>42</td>\n",
       "      <td>3</td>\n",
       "      <td>75075.31</td>\n",
       "      <td>2</td>\n",
       "      <td>1</td>\n",
       "      <td>0</td>\n",
       "      <td>92888.52</td>\n",
       "    </tr>\n",
       "    <tr>\n",
       "      <th>9999</th>\n",
       "      <td>792</td>\n",
       "      <td>France</td>\n",
       "      <td>Female</td>\n",
       "      <td>28</td>\n",
       "      <td>4</td>\n",
       "      <td>130142.79</td>\n",
       "      <td>1</td>\n",
       "      <td>1</td>\n",
       "      <td>0</td>\n",
       "      <td>38190.78</td>\n",
       "    </tr>\n",
       "  </tbody>\n",
       "</table>\n",
       "<p>10000 rows × 10 columns</p>\n",
       "</div>"
      ],
      "text/plain": [
       "      CreditScore Geography  Gender  Age  Tenure    Balance  NumOfProducts  \\\n",
       "0             619    France  Female   42       2       0.00              1   \n",
       "1             608     Spain  Female   41       1   83807.86              1   \n",
       "2             502    France  Female   42       8  159660.80              3   \n",
       "3             699    France  Female   39       1       0.00              2   \n",
       "4             850     Spain  Female   43       2  125510.82              1   \n",
       "...           ...       ...     ...  ...     ...        ...            ...   \n",
       "9995          771    France    Male   39       5       0.00              2   \n",
       "9996          516    France    Male   35      10   57369.61              1   \n",
       "9997          709    France  Female   36       7       0.00              1   \n",
       "9998          772   Germany    Male   42       3   75075.31              2   \n",
       "9999          792    France  Female   28       4  130142.79              1   \n",
       "\n",
       "      HasCrCard  IsActiveMember  EstimatedSalary  \n",
       "0             1               1        101348.88  \n",
       "1             0               1        112542.58  \n",
       "2             1               0        113931.57  \n",
       "3             0               0         93826.63  \n",
       "4             1               1         79084.10  \n",
       "...         ...             ...              ...  \n",
       "9995          1               0         96270.64  \n",
       "9996          1               1        101699.77  \n",
       "9997          0               1         42085.58  \n",
       "9998          1               0         92888.52  \n",
       "9999          1               0         38190.78  \n",
       "\n",
       "[10000 rows x 10 columns]"
      ]
     },
     "execution_count": 21,
     "metadata": {},
     "output_type": "execute_result"
    }
   ],
   "source": [
    "X"
   ]
  },
  {
   "cell_type": "code",
   "execution_count": 22,
   "id": "435c11e0",
   "metadata": {},
   "outputs": [
    {
     "data": {
      "text/plain": [
       "0       1\n",
       "1       0\n",
       "2       1\n",
       "3       0\n",
       "4       0\n",
       "       ..\n",
       "9995    0\n",
       "9996    0\n",
       "9997    1\n",
       "9998    1\n",
       "9999    0\n",
       "Name: Exited, Length: 10000, dtype: int64"
      ]
     },
     "execution_count": 22,
     "metadata": {},
     "output_type": "execute_result"
    }
   ],
   "source": [
    "y"
   ]
  },
  {
   "cell_type": "code",
   "execution_count": 23,
   "id": "fec3a532",
   "metadata": {},
   "outputs": [],
   "source": [
    "## Creating dummy variables for the Categorical features\n",
    "geography = pd.get_dummies(X['Geography'],drop_first=True)\n",
    "gender = pd.get_dummies(X['Gender'],drop_first=True)"
   ]
  },
  {
   "cell_type": "code",
   "execution_count": 24,
   "id": "9b7bb9f3",
   "metadata": {},
   "outputs": [
    {
     "data": {
      "text/html": [
       "<div>\n",
       "<style scoped>\n",
       "    .dataframe tbody tr th:only-of-type {\n",
       "        vertical-align: middle;\n",
       "    }\n",
       "\n",
       "    .dataframe tbody tr th {\n",
       "        vertical-align: top;\n",
       "    }\n",
       "\n",
       "    .dataframe thead th {\n",
       "        text-align: right;\n",
       "    }\n",
       "</style>\n",
       "<table border=\"1\" class=\"dataframe\">\n",
       "  <thead>\n",
       "    <tr style=\"text-align: right;\">\n",
       "      <th></th>\n",
       "      <th>Germany</th>\n",
       "      <th>Spain</th>\n",
       "    </tr>\n",
       "  </thead>\n",
       "  <tbody>\n",
       "    <tr>\n",
       "      <th>0</th>\n",
       "      <td>0</td>\n",
       "      <td>0</td>\n",
       "    </tr>\n",
       "    <tr>\n",
       "      <th>1</th>\n",
       "      <td>0</td>\n",
       "      <td>1</td>\n",
       "    </tr>\n",
       "    <tr>\n",
       "      <th>2</th>\n",
       "      <td>0</td>\n",
       "      <td>0</td>\n",
       "    </tr>\n",
       "    <tr>\n",
       "      <th>3</th>\n",
       "      <td>0</td>\n",
       "      <td>0</td>\n",
       "    </tr>\n",
       "    <tr>\n",
       "      <th>4</th>\n",
       "      <td>0</td>\n",
       "      <td>1</td>\n",
       "    </tr>\n",
       "  </tbody>\n",
       "</table>\n",
       "</div>"
      ],
      "text/plain": [
       "   Germany  Spain\n",
       "0        0      0\n",
       "1        0      1\n",
       "2        0      0\n",
       "3        0      0\n",
       "4        0      1"
      ]
     },
     "execution_count": 24,
     "metadata": {},
     "output_type": "execute_result"
    }
   ],
   "source": [
    "geography.head()"
   ]
  },
  {
   "cell_type": "code",
   "execution_count": 25,
   "id": "25e9d5a2",
   "metadata": {},
   "outputs": [
    {
     "data": {
      "text/html": [
       "<div>\n",
       "<style scoped>\n",
       "    .dataframe tbody tr th:only-of-type {\n",
       "        vertical-align: middle;\n",
       "    }\n",
       "\n",
       "    .dataframe tbody tr th {\n",
       "        vertical-align: top;\n",
       "    }\n",
       "\n",
       "    .dataframe thead th {\n",
       "        text-align: right;\n",
       "    }\n",
       "</style>\n",
       "<table border=\"1\" class=\"dataframe\">\n",
       "  <thead>\n",
       "    <tr style=\"text-align: right;\">\n",
       "      <th></th>\n",
       "      <th>Male</th>\n",
       "    </tr>\n",
       "  </thead>\n",
       "  <tbody>\n",
       "    <tr>\n",
       "      <th>0</th>\n",
       "      <td>0</td>\n",
       "    </tr>\n",
       "    <tr>\n",
       "      <th>1</th>\n",
       "      <td>0</td>\n",
       "    </tr>\n",
       "    <tr>\n",
       "      <th>2</th>\n",
       "      <td>0</td>\n",
       "    </tr>\n",
       "    <tr>\n",
       "      <th>3</th>\n",
       "      <td>0</td>\n",
       "    </tr>\n",
       "    <tr>\n",
       "      <th>4</th>\n",
       "      <td>0</td>\n",
       "    </tr>\n",
       "  </tbody>\n",
       "</table>\n",
       "</div>"
      ],
      "text/plain": [
       "   Male\n",
       "0     0\n",
       "1     0\n",
       "2     0\n",
       "3     0\n",
       "4     0"
      ]
     },
     "execution_count": 25,
     "metadata": {},
     "output_type": "execute_result"
    }
   ],
   "source": [
    "gender.head()"
   ]
  },
  {
   "cell_type": "code",
   "execution_count": 26,
   "id": "5c644dcc",
   "metadata": {},
   "outputs": [
    {
     "data": {
      "text/html": [
       "<div>\n",
       "<style scoped>\n",
       "    .dataframe tbody tr th:only-of-type {\n",
       "        vertical-align: middle;\n",
       "    }\n",
       "\n",
       "    .dataframe tbody tr th {\n",
       "        vertical-align: top;\n",
       "    }\n",
       "\n",
       "    .dataframe thead th {\n",
       "        text-align: right;\n",
       "    }\n",
       "</style>\n",
       "<table border=\"1\" class=\"dataframe\">\n",
       "  <thead>\n",
       "    <tr style=\"text-align: right;\">\n",
       "      <th></th>\n",
       "      <th>CreditScore</th>\n",
       "      <th>Geography</th>\n",
       "      <th>Gender</th>\n",
       "      <th>Age</th>\n",
       "      <th>Tenure</th>\n",
       "      <th>Balance</th>\n",
       "      <th>NumOfProducts</th>\n",
       "      <th>HasCrCard</th>\n",
       "      <th>IsActiveMember</th>\n",
       "      <th>EstimatedSalary</th>\n",
       "      <th>Germany</th>\n",
       "      <th>Spain</th>\n",
       "      <th>Male</th>\n",
       "    </tr>\n",
       "  </thead>\n",
       "  <tbody>\n",
       "    <tr>\n",
       "      <th>0</th>\n",
       "      <td>619</td>\n",
       "      <td>France</td>\n",
       "      <td>Female</td>\n",
       "      <td>42</td>\n",
       "      <td>2</td>\n",
       "      <td>0.00</td>\n",
       "      <td>1</td>\n",
       "      <td>1</td>\n",
       "      <td>1</td>\n",
       "      <td>101348.88</td>\n",
       "      <td>0</td>\n",
       "      <td>0</td>\n",
       "      <td>0</td>\n",
       "    </tr>\n",
       "    <tr>\n",
       "      <th>1</th>\n",
       "      <td>608</td>\n",
       "      <td>Spain</td>\n",
       "      <td>Female</td>\n",
       "      <td>41</td>\n",
       "      <td>1</td>\n",
       "      <td>83807.86</td>\n",
       "      <td>1</td>\n",
       "      <td>0</td>\n",
       "      <td>1</td>\n",
       "      <td>112542.58</td>\n",
       "      <td>0</td>\n",
       "      <td>1</td>\n",
       "      <td>0</td>\n",
       "    </tr>\n",
       "    <tr>\n",
       "      <th>2</th>\n",
       "      <td>502</td>\n",
       "      <td>France</td>\n",
       "      <td>Female</td>\n",
       "      <td>42</td>\n",
       "      <td>8</td>\n",
       "      <td>159660.80</td>\n",
       "      <td>3</td>\n",
       "      <td>1</td>\n",
       "      <td>0</td>\n",
       "      <td>113931.57</td>\n",
       "      <td>0</td>\n",
       "      <td>0</td>\n",
       "      <td>0</td>\n",
       "    </tr>\n",
       "    <tr>\n",
       "      <th>3</th>\n",
       "      <td>699</td>\n",
       "      <td>France</td>\n",
       "      <td>Female</td>\n",
       "      <td>39</td>\n",
       "      <td>1</td>\n",
       "      <td>0.00</td>\n",
       "      <td>2</td>\n",
       "      <td>0</td>\n",
       "      <td>0</td>\n",
       "      <td>93826.63</td>\n",
       "      <td>0</td>\n",
       "      <td>0</td>\n",
       "      <td>0</td>\n",
       "    </tr>\n",
       "    <tr>\n",
       "      <th>4</th>\n",
       "      <td>850</td>\n",
       "      <td>Spain</td>\n",
       "      <td>Female</td>\n",
       "      <td>43</td>\n",
       "      <td>2</td>\n",
       "      <td>125510.82</td>\n",
       "      <td>1</td>\n",
       "      <td>1</td>\n",
       "      <td>1</td>\n",
       "      <td>79084.10</td>\n",
       "      <td>0</td>\n",
       "      <td>1</td>\n",
       "      <td>0</td>\n",
       "    </tr>\n",
       "  </tbody>\n",
       "</table>\n",
       "</div>"
      ],
      "text/plain": [
       "   CreditScore Geography  Gender  Age  Tenure    Balance  NumOfProducts  \\\n",
       "0          619    France  Female   42       2       0.00              1   \n",
       "1          608     Spain  Female   41       1   83807.86              1   \n",
       "2          502    France  Female   42       8  159660.80              3   \n",
       "3          699    France  Female   39       1       0.00              2   \n",
       "4          850     Spain  Female   43       2  125510.82              1   \n",
       "\n",
       "   HasCrCard  IsActiveMember  EstimatedSalary  Germany  Spain  Male  \n",
       "0          1               1        101348.88        0      0     0  \n",
       "1          0               1        112542.58        0      1     0  \n",
       "2          1               0        113931.57        0      0     0  \n",
       "3          0               0         93826.63        0      0     0  \n",
       "4          1               1         79084.10        0      1     0  "
      ]
     },
     "execution_count": 26,
     "metadata": {},
     "output_type": "execute_result"
    }
   ],
   "source": [
    "## Concatenating the dummy variables with the original dataset:\n",
    "X = pd.concat([X,geography,gender],axis=1)\n",
    "X.head()"
   ]
  },
  {
   "cell_type": "code",
   "execution_count": 27,
   "id": "581d75cb",
   "metadata": {},
   "outputs": [
    {
     "data": {
      "text/html": [
       "<div>\n",
       "<style scoped>\n",
       "    .dataframe tbody tr th:only-of-type {\n",
       "        vertical-align: middle;\n",
       "    }\n",
       "\n",
       "    .dataframe tbody tr th {\n",
       "        vertical-align: top;\n",
       "    }\n",
       "\n",
       "    .dataframe thead th {\n",
       "        text-align: right;\n",
       "    }\n",
       "</style>\n",
       "<table border=\"1\" class=\"dataframe\">\n",
       "  <thead>\n",
       "    <tr style=\"text-align: right;\">\n",
       "      <th></th>\n",
       "      <th>CreditScore</th>\n",
       "      <th>Age</th>\n",
       "      <th>Tenure</th>\n",
       "      <th>Balance</th>\n",
       "      <th>NumOfProducts</th>\n",
       "      <th>HasCrCard</th>\n",
       "      <th>IsActiveMember</th>\n",
       "      <th>EstimatedSalary</th>\n",
       "      <th>Germany</th>\n",
       "      <th>Spain</th>\n",
       "      <th>Male</th>\n",
       "    </tr>\n",
       "  </thead>\n",
       "  <tbody>\n",
       "    <tr>\n",
       "      <th>0</th>\n",
       "      <td>619</td>\n",
       "      <td>42</td>\n",
       "      <td>2</td>\n",
       "      <td>0.00</td>\n",
       "      <td>1</td>\n",
       "      <td>1</td>\n",
       "      <td>1</td>\n",
       "      <td>101348.88</td>\n",
       "      <td>0</td>\n",
       "      <td>0</td>\n",
       "      <td>0</td>\n",
       "    </tr>\n",
       "    <tr>\n",
       "      <th>1</th>\n",
       "      <td>608</td>\n",
       "      <td>41</td>\n",
       "      <td>1</td>\n",
       "      <td>83807.86</td>\n",
       "      <td>1</td>\n",
       "      <td>0</td>\n",
       "      <td>1</td>\n",
       "      <td>112542.58</td>\n",
       "      <td>0</td>\n",
       "      <td>1</td>\n",
       "      <td>0</td>\n",
       "    </tr>\n",
       "    <tr>\n",
       "      <th>2</th>\n",
       "      <td>502</td>\n",
       "      <td>42</td>\n",
       "      <td>8</td>\n",
       "      <td>159660.80</td>\n",
       "      <td>3</td>\n",
       "      <td>1</td>\n",
       "      <td>0</td>\n",
       "      <td>113931.57</td>\n",
       "      <td>0</td>\n",
       "      <td>0</td>\n",
       "      <td>0</td>\n",
       "    </tr>\n",
       "    <tr>\n",
       "      <th>3</th>\n",
       "      <td>699</td>\n",
       "      <td>39</td>\n",
       "      <td>1</td>\n",
       "      <td>0.00</td>\n",
       "      <td>2</td>\n",
       "      <td>0</td>\n",
       "      <td>0</td>\n",
       "      <td>93826.63</td>\n",
       "      <td>0</td>\n",
       "      <td>0</td>\n",
       "      <td>0</td>\n",
       "    </tr>\n",
       "    <tr>\n",
       "      <th>4</th>\n",
       "      <td>850</td>\n",
       "      <td>43</td>\n",
       "      <td>2</td>\n",
       "      <td>125510.82</td>\n",
       "      <td>1</td>\n",
       "      <td>1</td>\n",
       "      <td>1</td>\n",
       "      <td>79084.10</td>\n",
       "      <td>0</td>\n",
       "      <td>1</td>\n",
       "      <td>0</td>\n",
       "    </tr>\n",
       "  </tbody>\n",
       "</table>\n",
       "</div>"
      ],
      "text/plain": [
       "   CreditScore  Age  Tenure    Balance  NumOfProducts  HasCrCard  \\\n",
       "0          619   42       2       0.00              1          1   \n",
       "1          608   41       1   83807.86              1          0   \n",
       "2          502   42       8  159660.80              3          1   \n",
       "3          699   39       1       0.00              2          0   \n",
       "4          850   43       2  125510.82              1          1   \n",
       "\n",
       "   IsActiveMember  EstimatedSalary  Germany  Spain  Male  \n",
       "0               1        101348.88        0      0     0  \n",
       "1               1        112542.58        0      1     0  \n",
       "2               0        113931.57        0      0     0  \n",
       "3               0         93826.63        0      0     0  \n",
       "4               1         79084.10        0      1     0  "
      ]
     },
     "execution_count": 27,
     "metadata": {},
     "output_type": "execute_result"
    }
   ],
   "source": [
    "## Dropping the variables for which the dummies are created:\n",
    "X = X.drop(['Geography','Gender'],axis=1)\n",
    "X.head()"
   ]
  },
  {
   "cell_type": "code",
   "execution_count": 28,
   "id": "62d96600",
   "metadata": {},
   "outputs": [],
   "source": [
    "## Applying train and test split on the processed dataset:"
   ]
  },
  {
   "cell_type": "code",
   "execution_count": 29,
   "id": "2dafa155",
   "metadata": {},
   "outputs": [],
   "source": [
    "X_train,X_test,y_train,y_test = train_test_split(X,y,test_size=.25,random_state=11)"
   ]
  },
  {
   "cell_type": "code",
   "execution_count": 30,
   "id": "be96002e",
   "metadata": {},
   "outputs": [],
   "source": [
    "## Scaling the train and test data to fit it into range:\n",
    "scale = StandardScaler()"
   ]
  },
  {
   "cell_type": "code",
   "execution_count": 31,
   "id": "2ac527ab",
   "metadata": {},
   "outputs": [],
   "source": [
    "X_train = scale.fit_transform(X_train)\n",
    "X_test = scale.transform(X_test)"
   ]
  },
  {
   "cell_type": "markdown",
   "id": "00a6e045",
   "metadata": {},
   "source": [
    "### Building the ANN Model:"
   ]
  },
  {
   "cell_type": "code",
   "execution_count": 32,
   "id": "7a07a309",
   "metadata": {},
   "outputs": [],
   "source": [
    "ann = Sequential()"
   ]
  },
  {
   "cell_type": "code",
   "execution_count": 33,
   "id": "8714ba42",
   "metadata": {},
   "outputs": [],
   "source": [
    "## Adding first input layer and the hidden layer\n",
    "ann.add(Dense(11,activation='relu'))"
   ]
  },
  {
   "cell_type": "code",
   "execution_count": 34,
   "id": "98d21658",
   "metadata": {},
   "outputs": [],
   "source": [
    "## Adding the second hidden layer\n",
    "ann.add(Dense(7,activation='relu'))"
   ]
  },
  {
   "cell_type": "code",
   "execution_count": 35,
   "id": "cf4e5bee",
   "metadata": {},
   "outputs": [],
   "source": [
    "## Adding the third hidden layer\n",
    "ann.add(Dense(6,activation='relu'))"
   ]
  },
  {
   "cell_type": "code",
   "execution_count": 36,
   "id": "03476f55",
   "metadata": {},
   "outputs": [],
   "source": [
    "## Adding the output layer\n",
    "ann.add(Dense(1,activation='sigmoid'))"
   ]
  },
  {
   "cell_type": "code",
   "execution_count": 37,
   "id": "49e7fb7c",
   "metadata": {},
   "outputs": [],
   "source": [
    "## Model Compilation\n",
    "ann.compile(optimizer='adam',loss='binary_crossentropy',metrics=['accuracy'])"
   ]
  },
  {
   "cell_type": "code",
   "execution_count": 38,
   "id": "1a707e59",
   "metadata": {},
   "outputs": [],
   "source": [
    "#Early Stopping for epochs\n",
    "early_stopping = tf.keras.callbacks.EarlyStopping(\n",
    "    monitor=\"val_loss\",\n",
    "    min_delta=0.0001,\n",
    "    patience=20,\n",
    "    verbose=1,\n",
    "    mode=\"auto\",\n",
    "    baseline=None,\n",
    "    restore_best_weights=False)"
   ]
  },
  {
   "cell_type": "code",
   "execution_count": 39,
   "id": "bb8d4076",
   "metadata": {},
   "outputs": [
    {
     "name": "stdout",
     "output_type": "stream",
     "text": [
      "Epoch 1/150\n",
      "165/165 [==============================] - 1s 3ms/step - loss: 0.5407 - accuracy: 0.7899 - val_loss: 0.4861 - val_accuracy: 0.7893\n",
      "Epoch 2/150\n",
      "165/165 [==============================] - 0s 2ms/step - loss: 0.4600 - accuracy: 0.8027 - val_loss: 0.4405 - val_accuracy: 0.7942\n",
      "Epoch 3/150\n",
      "165/165 [==============================] - 0s 2ms/step - loss: 0.4345 - accuracy: 0.8097 - val_loss: 0.4218 - val_accuracy: 0.8080\n",
      "Epoch 4/150\n",
      "165/165 [==============================] - 0s 2ms/step - loss: 0.4207 - accuracy: 0.8152 - val_loss: 0.4088 - val_accuracy: 0.8156\n",
      "Epoch 5/150\n",
      "165/165 [==============================] - 0s 3ms/step - loss: 0.4092 - accuracy: 0.8240 - val_loss: 0.3983 - val_accuracy: 0.8209\n",
      "Epoch 6/150\n",
      "165/165 [==============================] - 0s 2ms/step - loss: 0.3983 - accuracy: 0.8301 - val_loss: 0.3860 - val_accuracy: 0.8302\n",
      "Epoch 7/150\n",
      "165/165 [==============================] - 0s 2ms/step - loss: 0.3865 - accuracy: 0.8410 - val_loss: 0.3737 - val_accuracy: 0.8387\n",
      "Epoch 8/150\n",
      "165/165 [==============================] - 0s 2ms/step - loss: 0.3744 - accuracy: 0.8474 - val_loss: 0.3585 - val_accuracy: 0.8529\n",
      "Epoch 9/150\n",
      "165/165 [==============================] - 0s 2ms/step - loss: 0.3663 - accuracy: 0.8518 - val_loss: 0.3525 - val_accuracy: 0.8542\n",
      "Epoch 10/150\n",
      "165/165 [==============================] - 0s 2ms/step - loss: 0.3594 - accuracy: 0.8566 - val_loss: 0.3492 - val_accuracy: 0.8556\n",
      "Epoch 11/150\n",
      "165/165 [==============================] - 0s 2ms/step - loss: 0.3551 - accuracy: 0.8573 - val_loss: 0.3476 - val_accuracy: 0.8582\n",
      "Epoch 12/150\n",
      "165/165 [==============================] - 0s 2ms/step - loss: 0.3526 - accuracy: 0.8592 - val_loss: 0.3467 - val_accuracy: 0.8587\n",
      "Epoch 13/150\n",
      "165/165 [==============================] - 0s 2ms/step - loss: 0.3497 - accuracy: 0.8604 - val_loss: 0.3465 - val_accuracy: 0.8578\n",
      "Epoch 14/150\n",
      "165/165 [==============================] - 0s 2ms/step - loss: 0.3486 - accuracy: 0.8596 - val_loss: 0.3441 - val_accuracy: 0.8596\n",
      "Epoch 15/150\n",
      "165/165 [==============================] - 0s 2ms/step - loss: 0.3463 - accuracy: 0.8615 - val_loss: 0.3420 - val_accuracy: 0.8569\n",
      "Epoch 16/150\n",
      "165/165 [==============================] - 0s 2ms/step - loss: 0.3448 - accuracy: 0.8604 - val_loss: 0.3425 - val_accuracy: 0.8582\n",
      "Epoch 17/150\n",
      "165/165 [==============================] - 0s 2ms/step - loss: 0.3434 - accuracy: 0.8630 - val_loss: 0.3401 - val_accuracy: 0.8578\n",
      "Epoch 18/150\n",
      "165/165 [==============================] - 0s 2ms/step - loss: 0.3419 - accuracy: 0.8650 - val_loss: 0.3384 - val_accuracy: 0.8600\n",
      "Epoch 19/150\n",
      "165/165 [==============================] - 0s 2ms/step - loss: 0.3405 - accuracy: 0.8627 - val_loss: 0.3411 - val_accuracy: 0.8622\n",
      "Epoch 20/150\n",
      "165/165 [==============================] - 0s 2ms/step - loss: 0.3397 - accuracy: 0.8636 - val_loss: 0.3377 - val_accuracy: 0.8591\n",
      "Epoch 21/150\n",
      "165/165 [==============================] - 0s 2ms/step - loss: 0.3389 - accuracy: 0.8648 - val_loss: 0.3376 - val_accuracy: 0.8618\n",
      "Epoch 22/150\n",
      "165/165 [==============================] - 0s 3ms/step - loss: 0.3383 - accuracy: 0.8650 - val_loss: 0.3359 - val_accuracy: 0.8591\n",
      "Epoch 23/150\n",
      "165/165 [==============================] - 0s 3ms/step - loss: 0.3367 - accuracy: 0.8636 - val_loss: 0.3348 - val_accuracy: 0.8591\n",
      "Epoch 24/150\n",
      "165/165 [==============================] - 0s 2ms/step - loss: 0.3359 - accuracy: 0.8642 - val_loss: 0.3334 - val_accuracy: 0.8587\n",
      "Epoch 25/150\n",
      "165/165 [==============================] - 0s 2ms/step - loss: 0.3351 - accuracy: 0.8650 - val_loss: 0.3326 - val_accuracy: 0.8604\n",
      "Epoch 26/150\n",
      "165/165 [==============================] - 0s 2ms/step - loss: 0.3340 - accuracy: 0.8646 - val_loss: 0.3328 - val_accuracy: 0.8591\n",
      "Epoch 27/150\n",
      "165/165 [==============================] - 0s 2ms/step - loss: 0.3337 - accuracy: 0.8651 - val_loss: 0.3315 - val_accuracy: 0.8573\n",
      "Epoch 28/150\n",
      "165/165 [==============================] - 0s 2ms/step - loss: 0.3332 - accuracy: 0.8644 - val_loss: 0.3316 - val_accuracy: 0.8600\n",
      "Epoch 29/150\n",
      "165/165 [==============================] - 0s 2ms/step - loss: 0.3321 - accuracy: 0.8651 - val_loss: 0.3306 - val_accuracy: 0.8604\n",
      "Epoch 30/150\n",
      "165/165 [==============================] - 0s 2ms/step - loss: 0.3323 - accuracy: 0.8644 - val_loss: 0.3301 - val_accuracy: 0.8596\n",
      "Epoch 31/150\n",
      "165/165 [==============================] - 0s 2ms/step - loss: 0.3307 - accuracy: 0.8642 - val_loss: 0.3291 - val_accuracy: 0.8609\n",
      "Epoch 32/150\n",
      "165/165 [==============================] - 0s 2ms/step - loss: 0.3304 - accuracy: 0.8663 - val_loss: 0.3293 - val_accuracy: 0.8609\n",
      "Epoch 33/150\n",
      "165/165 [==============================] - 0s 2ms/step - loss: 0.3299 - accuracy: 0.8653 - val_loss: 0.3291 - val_accuracy: 0.8613\n",
      "Epoch 34/150\n",
      "165/165 [==============================] - 0s 2ms/step - loss: 0.3292 - accuracy: 0.8659 - val_loss: 0.3303 - val_accuracy: 0.8604\n",
      "Epoch 35/150\n",
      "165/165 [==============================] - 0s 2ms/step - loss: 0.3294 - accuracy: 0.8665 - val_loss: 0.3278 - val_accuracy: 0.8613\n",
      "Epoch 36/150\n",
      "165/165 [==============================] - 0s 2ms/step - loss: 0.3278 - accuracy: 0.8678 - val_loss: 0.3275 - val_accuracy: 0.8613\n",
      "Epoch 37/150\n",
      "165/165 [==============================] - 0s 2ms/step - loss: 0.3281 - accuracy: 0.8674 - val_loss: 0.3289 - val_accuracy: 0.8636\n",
      "Epoch 38/150\n",
      "165/165 [==============================] - 0s 2ms/step - loss: 0.3282 - accuracy: 0.8665 - val_loss: 0.3284 - val_accuracy: 0.8596\n",
      "Epoch 39/150\n",
      "165/165 [==============================] - 0s 2ms/step - loss: 0.3275 - accuracy: 0.8665 - val_loss: 0.3256 - val_accuracy: 0.8613\n",
      "Epoch 40/150\n",
      "165/165 [==============================] - 0s 2ms/step - loss: 0.3265 - accuracy: 0.8665 - val_loss: 0.3276 - val_accuracy: 0.8622\n",
      "Epoch 41/150\n",
      "165/165 [==============================] - 0s 2ms/step - loss: 0.3264 - accuracy: 0.8674 - val_loss: 0.3262 - val_accuracy: 0.8622\n",
      "Epoch 42/150\n",
      "165/165 [==============================] - 0s 2ms/step - loss: 0.3261 - accuracy: 0.8680 - val_loss: 0.3271 - val_accuracy: 0.8640\n",
      "Epoch 43/150\n",
      "165/165 [==============================] - 0s 2ms/step - loss: 0.3258 - accuracy: 0.8682 - val_loss: 0.3280 - val_accuracy: 0.8622\n",
      "Epoch 44/150\n",
      "165/165 [==============================] - 0s 2ms/step - loss: 0.3266 - accuracy: 0.8670 - val_loss: 0.3250 - val_accuracy: 0.8618\n",
      "Epoch 45/150\n",
      "165/165 [==============================] - 0s 3ms/step - loss: 0.3253 - accuracy: 0.8690 - val_loss: 0.3250 - val_accuracy: 0.8644\n",
      "Epoch 46/150\n",
      "165/165 [==============================] - 0s 2ms/step - loss: 0.3246 - accuracy: 0.8682 - val_loss: 0.3257 - val_accuracy: 0.8636\n",
      "Epoch 47/150\n",
      "165/165 [==============================] - 0s 2ms/step - loss: 0.3244 - accuracy: 0.8691 - val_loss: 0.3265 - val_accuracy: 0.8644\n",
      "Epoch 48/150\n",
      "165/165 [==============================] - 0s 2ms/step - loss: 0.3244 - accuracy: 0.8678 - val_loss: 0.3251 - val_accuracy: 0.8649\n",
      "Epoch 49/150\n",
      "165/165 [==============================] - 0s 2ms/step - loss: 0.3236 - accuracy: 0.8670 - val_loss: 0.3260 - val_accuracy: 0.8658\n",
      "Epoch 50/150\n",
      "165/165 [==============================] - 0s 2ms/step - loss: 0.3249 - accuracy: 0.8667 - val_loss: 0.3257 - val_accuracy: 0.8658\n",
      "Epoch 51/150\n",
      "165/165 [==============================] - 0s 2ms/step - loss: 0.3234 - accuracy: 0.8659 - val_loss: 0.3265 - val_accuracy: 0.8640\n",
      "Epoch 52/150\n",
      "165/165 [==============================] - 0s 2ms/step - loss: 0.3235 - accuracy: 0.8661 - val_loss: 0.3256 - val_accuracy: 0.8653\n",
      "Epoch 53/150\n",
      "165/165 [==============================] - 0s 2ms/step - loss: 0.3230 - accuracy: 0.8676 - val_loss: 0.3260 - val_accuracy: 0.8653\n",
      "Epoch 54/150\n",
      "165/165 [==============================] - 0s 2ms/step - loss: 0.3231 - accuracy: 0.8659 - val_loss: 0.3265 - val_accuracy: 0.8662\n",
      "Epoch 55/150\n",
      "165/165 [==============================] - 0s 2ms/step - loss: 0.3227 - accuracy: 0.8672 - val_loss: 0.3254 - val_accuracy: 0.8649\n",
      "Epoch 56/150\n",
      "165/165 [==============================] - 0s 2ms/step - loss: 0.3225 - accuracy: 0.8669 - val_loss: 0.3265 - val_accuracy: 0.8640\n",
      "Epoch 57/150\n",
      "165/165 [==============================] - 0s 2ms/step - loss: 0.3223 - accuracy: 0.8695 - val_loss: 0.3258 - val_accuracy: 0.8662\n"
     ]
    },
    {
     "name": "stdout",
     "output_type": "stream",
     "text": [
      "Epoch 58/150\n",
      "165/165 [==============================] - 0s 2ms/step - loss: 0.3219 - accuracy: 0.8676 - val_loss: 0.3309 - val_accuracy: 0.8644\n",
      "Epoch 59/150\n",
      "165/165 [==============================] - 0s 2ms/step - loss: 0.3216 - accuracy: 0.8674 - val_loss: 0.3258 - val_accuracy: 0.8644\n",
      "Epoch 60/150\n",
      "165/165 [==============================] - 0s 2ms/step - loss: 0.3223 - accuracy: 0.8684 - val_loss: 0.3255 - val_accuracy: 0.8653\n",
      "Epoch 61/150\n",
      "165/165 [==============================] - 0s 2ms/step - loss: 0.3212 - accuracy: 0.8686 - val_loss: 0.3264 - val_accuracy: 0.8627\n",
      "Epoch 62/150\n",
      "165/165 [==============================] - 0s 2ms/step - loss: 0.3210 - accuracy: 0.8690 - val_loss: 0.3249 - val_accuracy: 0.8644\n",
      "Epoch 63/150\n",
      "165/165 [==============================] - 0s 2ms/step - loss: 0.3214 - accuracy: 0.8684 - val_loss: 0.3246 - val_accuracy: 0.8649\n",
      "Epoch 64/150\n",
      "165/165 [==============================] - 0s 2ms/step - loss: 0.3205 - accuracy: 0.8701 - val_loss: 0.3256 - val_accuracy: 0.8631\n",
      "Epoch 65/150\n",
      "165/165 [==============================] - 0s 3ms/step - loss: 0.3213 - accuracy: 0.8701 - val_loss: 0.3254 - val_accuracy: 0.8636\n",
      "Epoch 66/150\n",
      "165/165 [==============================] - 0s 2ms/step - loss: 0.3205 - accuracy: 0.8672 - val_loss: 0.3255 - val_accuracy: 0.8658\n",
      "Epoch 67/150\n",
      "165/165 [==============================] - 0s 2ms/step - loss: 0.3204 - accuracy: 0.8686 - val_loss: 0.3264 - val_accuracy: 0.8662\n",
      "Epoch 68/150\n",
      "165/165 [==============================] - 0s 3ms/step - loss: 0.3200 - accuracy: 0.8684 - val_loss: 0.3247 - val_accuracy: 0.8631\n",
      "Epoch 69/150\n",
      "165/165 [==============================] - 1s 4ms/step - loss: 0.3199 - accuracy: 0.8678 - val_loss: 0.3244 - val_accuracy: 0.8653\n",
      "Epoch 70/150\n",
      "165/165 [==============================] - 0s 2ms/step - loss: 0.3199 - accuracy: 0.8684 - val_loss: 0.3244 - val_accuracy: 0.8644\n",
      "Epoch 71/150\n",
      "165/165 [==============================] - 0s 2ms/step - loss: 0.3191 - accuracy: 0.8674 - val_loss: 0.3249 - val_accuracy: 0.8640\n",
      "Epoch 72/150\n",
      "165/165 [==============================] - 0s 2ms/step - loss: 0.3195 - accuracy: 0.8693 - val_loss: 0.3242 - val_accuracy: 0.8671\n",
      "Epoch 73/150\n",
      "165/165 [==============================] - 0s 2ms/step - loss: 0.3192 - accuracy: 0.8674 - val_loss: 0.3250 - val_accuracy: 0.8653\n",
      "Epoch 74/150\n",
      "165/165 [==============================] - 0s 2ms/step - loss: 0.3193 - accuracy: 0.8672 - val_loss: 0.3264 - val_accuracy: 0.8653\n",
      "Epoch 75/150\n",
      "165/165 [==============================] - 0s 2ms/step - loss: 0.3186 - accuracy: 0.8690 - val_loss: 0.3248 - val_accuracy: 0.8658\n",
      "Epoch 76/150\n",
      "165/165 [==============================] - 0s 2ms/step - loss: 0.3189 - accuracy: 0.8674 - val_loss: 0.3251 - val_accuracy: 0.8662\n",
      "Epoch 77/150\n",
      "165/165 [==============================] - 1s 4ms/step - loss: 0.3187 - accuracy: 0.8688 - val_loss: 0.3249 - val_accuracy: 0.8658\n",
      "Epoch 78/150\n",
      "165/165 [==============================] - 1s 4ms/step - loss: 0.3185 - accuracy: 0.8684 - val_loss: 0.3267 - val_accuracy: 0.8649\n",
      "Epoch 79/150\n",
      "165/165 [==============================] - 0s 2ms/step - loss: 0.3178 - accuracy: 0.8678 - val_loss: 0.3251 - val_accuracy: 0.8627\n",
      "Epoch 80/150\n",
      "165/165 [==============================] - 1s 3ms/step - loss: 0.3186 - accuracy: 0.8682 - val_loss: 0.3256 - val_accuracy: 0.8649\n",
      "Epoch 81/150\n",
      "165/165 [==============================] - 0s 2ms/step - loss: 0.3176 - accuracy: 0.8674 - val_loss: 0.3256 - val_accuracy: 0.8636\n",
      "Epoch 82/150\n",
      "165/165 [==============================] - 0s 2ms/step - loss: 0.3174 - accuracy: 0.8686 - val_loss: 0.3263 - val_accuracy: 0.8640\n",
      "Epoch 83/150\n",
      "165/165 [==============================] - 0s 2ms/step - loss: 0.3175 - accuracy: 0.8691 - val_loss: 0.3279 - val_accuracy: 0.8658\n",
      "Epoch 84/150\n",
      "165/165 [==============================] - 0s 2ms/step - loss: 0.3171 - accuracy: 0.8678 - val_loss: 0.3268 - val_accuracy: 0.8658\n",
      "Epoch 85/150\n",
      "165/165 [==============================] - 0s 2ms/step - loss: 0.3169 - accuracy: 0.8684 - val_loss: 0.3253 - val_accuracy: 0.8636\n",
      "Epoch 86/150\n",
      "165/165 [==============================] - 0s 2ms/step - loss: 0.3172 - accuracy: 0.8688 - val_loss: 0.3261 - val_accuracy: 0.8636\n",
      "Epoch 87/150\n",
      "165/165 [==============================] - 0s 2ms/step - loss: 0.3178 - accuracy: 0.8657 - val_loss: 0.3269 - val_accuracy: 0.8636\n",
      "Epoch 88/150\n",
      "165/165 [==============================] - 0s 2ms/step - loss: 0.3171 - accuracy: 0.8674 - val_loss: 0.3267 - val_accuracy: 0.8644\n",
      "Epoch 89/150\n",
      "165/165 [==============================] - 1s 4ms/step - loss: 0.3169 - accuracy: 0.8674 - val_loss: 0.3272 - val_accuracy: 0.8640\n",
      "Epoch 90/150\n",
      "165/165 [==============================] - 0s 2ms/step - loss: 0.3169 - accuracy: 0.8665 - val_loss: 0.3268 - val_accuracy: 0.8640\n",
      "Epoch 91/150\n",
      "165/165 [==============================] - 0s 2ms/step - loss: 0.3171 - accuracy: 0.8667 - val_loss: 0.3271 - val_accuracy: 0.8636\n",
      "Epoch 92/150\n",
      "165/165 [==============================] - 0s 2ms/step - loss: 0.3162 - accuracy: 0.8667 - val_loss: 0.3269 - val_accuracy: 0.8640\n",
      "Epoch 92: early stopping\n"
     ]
    }
   ],
   "source": [
    "model_hist = ann.fit(X_train,y_train,validation_split=0.3,epochs=150,callbacks=early_stopping)"
   ]
  },
  {
   "cell_type": "code",
   "execution_count": 40,
   "id": "002ed2dc",
   "metadata": {},
   "outputs": [
    {
     "data": {
      "text/plain": [
       "dict_keys(['loss', 'accuracy', 'val_loss', 'val_accuracy'])"
      ]
     },
     "execution_count": 40,
     "metadata": {},
     "output_type": "execute_result"
    }
   ],
   "source": [
    "## List of the data present in the model history\n",
    "model_hist.history.keys()"
   ]
  },
  {
   "cell_type": "code",
   "execution_count": 41,
   "id": "437f598c",
   "metadata": {},
   "outputs": [
    {
     "data": {
      "image/png": "[encoded data removed]",
      "text/plain": [
       "<Figure size 432x288 with 1 Axes>"
      ]
     },
     "metadata": {
      "needs_background": "light"
     },
     "output_type": "display_data"
    }
   ],
   "source": [
    "#Visualization of history for accuracy:\n",
    "plt.plot(model_hist.history['accuracy'])\n",
    "plt.plot(model_hist.history['val_accuracy'])\n",
    "plt.title('model accuracy')\n",
    "plt.ylabel('accuracy')\n",
    "plt.xlabel('epoch')\n",
    "plt.legend(['train', 'test'], loc='upper left')\n",
    "plt.show()"
   ]
  },
  {
   "cell_type": "code",
   "execution_count": 42,
   "id": "f540c7f4",
   "metadata": {},
   "outputs": [
    {
     "data": {
      "image/png": "[encoded data removed]",
      "text/plain": [
       "<Figure size 432x288 with 1 Axes>"
      ]
     },
     "metadata": {
      "needs_background": "light"
     },
     "output_type": "display_data"
    }
   ],
   "source": [
    "## Visualising the model history for loss\n",
    "plt.plot(model_hist.history['loss'])\n",
    "plt.plot(model_hist.history['val_loss'])\n",
    "plt.title('model loss')\n",
    "plt.ylabel('loss')\n",
    "plt.xlabel('epoch')\n",
    "plt.legend(['train', 'test'], loc='upper left')\n",
    "plt.show()"
   ]
  },
  {
   "cell_type": "code",
   "execution_count": 43,
   "id": "c13771f8",
   "metadata": {},
   "outputs": [
    {
     "name": "stdout",
     "output_type": "stream",
     "text": [
      "79/79 [==============================] - 0s 1ms/step\n"
     ]
    }
   ],
   "source": [
    "## Predicting and evaluating the model\n",
    "y_pred = ann.predict(X_test)\n",
    "y_pred = y_pred >= 0.5"
   ]
  },
  {
   "cell_type": "code",
   "execution_count": 44,
   "id": "140bd912",
   "metadata": {},
   "outputs": [
    {
     "data": {
      "text/plain": [
       "array([[1877,  263],\n",
       "       [ 104,  256]], dtype=int64)"
      ]
     },
     "execution_count": 44,
     "metadata": {},
     "output_type": "execute_result"
    }
   ],
   "source": [
    "## Creating Confusion Matrix to find the accuracy\n",
    "accuracy = confusion_matrix(y_pred,y_test)\n",
    "accuracy"
   ]
  },
  {
   "cell_type": "code",
   "execution_count": 45,
   "id": "67ea1ab6",
   "metadata": {},
   "outputs": [
    {
     "name": "stdout",
     "output_type": "stream",
     "text": [
      "The accuracy score for the ANN model built is 0.85\n"
     ]
    }
   ],
   "source": [
    "acc_score = accuracy_score(y_pred,y_test)\n",
    "print('The accuracy score for the ANN model built is {0:.2f}'.format(acc_score))"
   ]
  },
  {
   "cell_type": "code",
   "execution_count": null,
   "id": "34c1898b",
   "metadata": {},
   "outputs": [],
   "source": []
  }
 ],
 "metadata": {
  "kernelspec": {
   "display_name": "Python 3 (ipykernel)",
   "language": "python",
   "name": "python3"
  },
  "language_info": {
   "codemirror_mode": {
    "name": "ipython",
    "version": 3
   },
   "file_extension": ".py",
   "mimetype": "text/x-python",
   "name": "python",
   "nbconvert_exporter": "python",
   "pygments_lexer": "ipython3",
   "version": "3.9.12"
  }
 },
 "nbformat": 4,
 "nbformat_minor": 5
}
